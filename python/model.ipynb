{
 "cells": [
  {
   "cell_type": "code",
   "execution_count": 1,
   "metadata": {},
   "outputs": [
    {
     "name": "stderr",
     "output_type": "stream",
     "text": [
      "/Library/Frameworks/Python.framework/Versions/3.11/lib/python3.11/site-packages/tqdm/auto.py:21: TqdmWarning: IProgress not found. Please update jupyter and ipywidgets. See https://ipywidgets.readthedocs.io/en/stable/user_install.html\n",
      "  from .autonotebook import tqdm as notebook_tqdm\n"
     ]
    },
    {
     "name": "stdout",
     "output_type": "stream",
     "text": [
      "['tech', 'gaming', 'music', 'fashion', 'entertainment', 'social']\n"
     ]
    }
   ],
   "source": [
    "import numpy as np\n",
    "from sklearn.model_selection import train_test_split\n",
    "from transformers import BertTokenizer, BertForSequenceClassification\n",
    "from sklearn.metrics import accuracy_score\n",
    "\n",
    "# Sample data: event titles and their corresponding types\n",
    "data = [\n",
    "    (\"Tech Summit 2024\", \"tech\"),\n",
    "    (\"Fashion Show Gala\", \"fashion\"),\n",
    "    (\"Music Festival\", \"music\"),\n",
    "    (\"Entertainment Awards Night\", \"entertainment\"),\n",
    "    (\"NLP Conference\", \"tech\"),\n",
    "    (\"Go Karting\", \"gaming\"),\n",
    "    (\"Community Meetup for Networking\", \"social\"),\n",
    "    (\"Formula one\", \"gaming\"),\n",
    "    (\"Football night\", \"gaming\")\n",
    "    # Add more examples as needed\n",
    "]\n",
    "\n",
    "# Split the data into training and testing sets\n",
    "titles, labels = zip(*data)\n",
    "X_train, X_test, y_train, y_test = train_test_split(titles, labels, test_size=0.2, random_state=42)\n",
    "\n",
    "labels = list(set(labels))\n",
    "print(labels)"
   ]
  },
  {
   "cell_type": "code",
   "execution_count": 2,
   "metadata": {},
   "outputs": [
    {
     "name": "stderr",
     "output_type": "stream",
     "text": [
      "Some weights of BertForSequenceClassification were not initialized from the model checkpoint at bert-base-uncased and are newly initialized: ['classifier.bias', 'classifier.weight']\n",
      "You should probably TRAIN this model on a down-stream task to be able to use it for predictions and inference.\n"
     ]
    }
   ],
   "source": [
    "import torch\n",
    "# Load pre-trained BERT tokenizer and model\n",
    "tokenizer = BertTokenizer.from_pretrained('bert-base-uncased')\n",
    "model = BertForSequenceClassification.from_pretrained('bert-base-uncased', num_labels=len(labels))\n",
    "\n",
    "# Tokenize and encode the training data\n",
    "X_train_encoded = tokenizer(X_train, padding=True, truncation=True, return_tensors=\"pt\")\n",
    "X_test_encoded = tokenizer(X_test, padding=True, truncation=True, return_tensors=\"pt\")\n",
    "\n",
    "# Train the BERT-based model\n",
    "model.train()\n",
    "optimizer = torch.optim.AdamW(model.parameters(), lr=5e-5)\n",
    "for epoch in range(3):  # You might want to adjust the number of epochs\n",
    "    optimizer.zero_grad()\n",
    "    outputs = model(**X_train_encoded, labels=torch.tensor([labels.index(label) for label in y_train]))\n",
    "    loss = outputs.loss\n",
    "    loss.backward()\n",
    "    optimizer.step()\n"
   ]
  },
  {
   "cell_type": "code",
   "execution_count": 3,
   "metadata": {},
   "outputs": [
    {
     "name": "stdout",
     "output_type": "stream",
     "text": [
      "Accuracy: 50.00%\n"
     ]
    }
   ],
   "source": [
    "# Evaluate the model on the test set\n",
    "model.eval()\n",
    "with torch.no_grad():\n",
    "    outputs = model(**X_test_encoded)\n",
    "    logits = outputs.logits\n",
    "    predictions = np.argmax(logits, axis=1)\n",
    "\n",
    "# Convert predictions back to labels\n",
    "predicted_labels = [labels[idx] for idx in predictions]\n",
    "\n",
    "# Evaluate the accuracy\n",
    "accuracy = accuracy_score(y_test, predicted_labels)\n",
    "print(f\"Accuracy: {accuracy * 100:.2f}%\")\n",
    "\n",
    "# Function to classify a new event title\n",
    "def classify_event(title):\n",
    "    title_encoded = tokenizer(title, padding=True, truncation=True, return_tensors=\"pt\")\n",
    "    model.eval()\n",
    "    with torch.no_grad():\n",
    "      outputs = model(**title_encoded)\n",
    "      logits = outputs.logits\n",
    "      prediction = np.argmax(logits, axis=1)\n",
    "    return labels[prediction.item()]\n"
   ]
  },
  {
   "cell_type": "code",
   "execution_count": 4,
   "metadata": {},
   "outputs": [
    {
     "name": "stdout",
     "output_type": "stream",
     "text": [
      "The event 'baseball match' is classified as 'gaming'.\n"
     ]
    }
   ],
   "source": [
    "new_event_title = \"baseball match\"\n",
    "predicted_type = classify_event(new_event_title)\n",
    "print(f\"The event '{new_event_title}' is classified as '{predicted_type}'.\")"
   ]
  },
  {
   "cell_type": "code",
   "execution_count": 5,
   "metadata": {},
   "outputs": [
    {
     "data": {
      "text/plain": [
       "('bert_tokenizer/tokenizer_config.json',\n",
       " 'bert_tokenizer/special_tokens_map.json',\n",
       " 'bert_tokenizer/vocab.txt',\n",
       " 'bert_tokenizer/added_tokens.json')"
      ]
     },
     "execution_count": 5,
     "metadata": {},
     "output_type": "execute_result"
    }
   ],
   "source": [
    "model.save_pretrained('bert_model')\n",
    "\n",
    "# Save the tokenizer\n",
    "tokenizer = BertTokenizer.from_pretrained('bert-base-uncased')\n",
    "tokenizer.save_pretrained('bert_tokenizer')"
   ]
  }
 ],
 "metadata": {
  "kernelspec": {
   "display_name": "Python 3",
   "language": "python",
   "name": "python3"
  },
  "language_info": {
   "codemirror_mode": {
    "name": "ipython",
    "version": 3
   },
   "file_extension": ".py",
   "mimetype": "text/x-python",
   "name": "python",
   "nbconvert_exporter": "python",
   "pygments_lexer": "ipython3",
   "version": "3.11.1"
  }
 },
 "nbformat": 4,
 "nbformat_minor": 2
}
